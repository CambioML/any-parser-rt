{
 "cells": [
  {
   "cell_type": "code",
   "execution_count": 1,
   "metadata": {},
   "outputs": [],
   "source": [
    "import sys\n",
    "from IPython.display import display, Markdown\n",
    "\n",
    "sys.path.append(\"..\")"
   ]
  },
  {
   "cell_type": "code",
   "execution_count": 2,
   "metadata": {},
   "outputs": [],
   "source": [
    "from any_parser_rt.any_parser_rt import AnyParserRT"
   ]
  },
  {
   "cell_type": "code",
   "execution_count": 3,
   "metadata": {},
   "outputs": [],
   "source": [
    "ap_rt = AnyParserRT(api_key=\"wcAgF7YnrA6yPo681yoXVIPYVWoVb7B5idQxG2Eb\")"
   ]
  },
  {
   "cell_type": "code",
   "execution_count": 4,
   "metadata": {},
   "outputs": [],
   "source": [
    "md_output, total_time = ap_rt.extract(file_path=\"./data/test.pdf\")"
   ]
  },
  {
   "cell_type": "code",
   "execution_count": 5,
   "metadata": {},
   "outputs": [
    {
     "data": {
      "text/markdown": [
       "S571. May 13, 2024\n",
       "SM372 - Tesla in 2023: Building a Radically Innovative Operating System (OS)\n",
       "\n",
       "## Preparation Questions:\n",
       "\n",
       "1. What are the key components of Tesla's innovative operating system, and how would you rank their strategic importance? How is Tesla's OS different from the traditional enterprise applications used by the vast majority of the Fortune 1000 companies?\n",
       "\n",
       "2. What important factors enabled the operating system to directly influence Tesla's growth and success? How did the OS enable the vertically integrated business operations of Tesla?\n",
       "\n",
       "3. To your mind, how useful are Tesla's \"First Principles,\" and how does top management get them adopted throughout the leadership ranks?\n",
       "\n",
       "4. For whom has Tesla's innovative operating system helped create value, and how would you quantify that value?\n",
       "\n",
       "5. What changes, if any, will Tesla top management have to make in the current operating system to achieve the aspirational strategic objective of bringing to market 20 million EV by 2030; and enable and support the launch of new products and revenue streams for Tesla?\n",
       "\n",
       "6. How do you explain the difference in market capitalization of Tesla compared to the other major automakers?\n",
       "\n",
       "7. How dependent is Tesla's current success on CEO Elon Musk, and what would you expect the Board to look for in preparing for CEO succession?"
      ],
      "text/plain": [
       "<IPython.core.display.Markdown object>"
      ]
     },
     "metadata": {},
     "output_type": "display_data"
    }
   ],
   "source": [
    "display(Markdown(md_output))"
   ]
  },
  {
   "cell_type": "code",
   "execution_count": null,
   "metadata": {},
   "outputs": [],
   "source": []
  }
 ],
 "metadata": {
  "kernelspec": {
   "display_name": "poetry",
   "language": "python",
   "name": "python3"
  },
  "language_info": {
   "codemirror_mode": {
    "name": "ipython",
    "version": 3
   },
   "file_extension": ".py",
   "mimetype": "text/x-python",
   "name": "python",
   "nbconvert_exporter": "python",
   "pygments_lexer": "ipython3",
   "version": "3.10.13"
  }
 },
 "nbformat": 4,
 "nbformat_minor": 2
}
